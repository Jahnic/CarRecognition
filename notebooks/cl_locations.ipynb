{
 "metadata": {
  "language_info": {
   "codemirror_mode": {
    "name": "ipython",
    "version": 3
   },
   "file_extension": ".py",
   "mimetype": "text/x-python",
   "name": "python",
   "nbconvert_exporter": "python",
   "pygments_lexer": "ipython3",
   "version": "3.8.10"
  },
  "orig_nbformat": 4,
  "kernelspec": {
   "name": "python3",
   "display_name": "Python 3.8.10 64-bit"
  },
  "interpreter": {
   "hash": "31f2aee4e71d21fbe5cf8b01ff0e069b9275f58929596ceb00d14d90e3e16cd6"
  }
 },
 "nbformat": 4,
 "nbformat_minor": 2,
 "cells": [
  {
   "cell_type": "code",
   "execution_count": 54,
   "metadata": {},
   "outputs": [],
   "source": [
    "import requests\n",
    "from bs4 import BeautifulSoup\n",
    "import pandas as pd \n",
    "import re"
   ]
  },
  {
   "cell_type": "code",
   "execution_count": 2,
   "metadata": {
    "tags": [
     "outputPrepend"
    ]
   },
   "outputs": [
    {
     "output_type": "stream",
     "name": "stdout",
     "text": [
      "              </ul>\n                    <h4>China</h4>\n                    <ul>\n                        <li><a href=\"https://beijing.craigslist.com.cn/\">beijing</a></li>\n                        <li><a href=\"https://chengdu.craigslist.com.cn/\">chengdu</a></li>\n                        <li><a href=\"https://chongqing.craigslist.com.cn/\">chongqing</a></li>\n                        <li><a href=\"https://dalian.craigslist.com.cn/\">dalian</a></li>\n                        <li><a href=\"https://guangzhou.craigslist.com.cn/\">guangzhou</a></li>\n                        <li><a href=\"https://hangzhou.craigslist.com.cn/\">hangzhou</a></li>\n                        <li><a href=\"https://nanjing.craigslist.com.cn/\">nanjing</a></li>\n                        <li><a href=\"https://shanghai.craigslist.com.cn/\">shanghai</a></li>\n                        <li><a href=\"https://shenyang.craigslist.com.cn/\">shenyang</a></li>\n                        <li><a href=\"https://shenzhen.craigslist.com.cn/\">shenzhen</a></li>\n                        <li><a href=\"https://wuhan.craigslist.com.cn/\">wuhan</a></li>\n                        <li><a href=\"https://xian.craigslist.com.cn/\">xi'an</a></li>\n                    </ul>\n                    <h4>Guam / Micronesia</h4>\n                    <ul>\n                        <li><a href=\"https://micronesia.craigslist.org/\">guam-micronesia</a></li>\n                    </ul>\n                    <h4>Hong Kong</h4>\n                    <ul>\n                        <li><a href=\"https://hongkong.craigslist.hk/\">hong kong</a></li>\n                    </ul></div><div class=\"box box_2\">\n                        <h4>India</h4>\n                    <ul>\n                        <li><a href=\"https://ahmedabad.craigslist.co.in/\">ahmedabad</a></li>\n                        <li><a href=\"https://bangalore.craigslist.co.in/\">bangalore</a></li>\n                        <li><a href=\"https://bhubaneswar.craigslist.co.in/\">bhubaneswar</a></li>\n                        <li><a href=\"https://chandigarh.craigslist.co.in/\">chandigarh</a></li>\n                        <li><a href=\"https://chennai.craigslist.co.in/\">chennai (madras)</a></li>\n                        <li><a href=\"https://delhi.craigslist.co.in/\">delhi</a></li>\n                        <li><a href=\"https://goa.craigslist.co.in/\">goa</a></li>\n                        <li><a href=\"https://hyderabad.craigslist.co.in/\">hyderabad</a></li>\n                        <li><a href=\"https://indore.craigslist.co.in/\">indore</a></li>\n                        <li><a href=\"https://jaipur.craigslist.co.in/\">jaipur</a></li>\n                        <li><a href=\"https://kerala.craigslist.co.in/\">kerala</a></li>\n                        <li><a href=\"https://kolkata.craigslist.co.in/\">kolkata (calcutta)</a></li>\n                        <li><a href=\"https://lucknow.craigslist.co.in/\">lucknow</a></li>\n                        <li><a href=\"https://mumbai.craigslist.co.in/\">mumbai</a></li>\n                        <li><a href=\"https://pune.craigslist.co.in/\">pune</a></li>\n                        <li><a href=\"https://surat.craigslist.co.in/\">surat surat</a></li>\n                    </ul>\n                    <h4>Indonesia</h4>\n                    <ul>\n                        <li><a href=\"https://jakarta.craigslist.org/\">indonesia</a></li>\n                    </ul>\n                    <h4>Iran</h4>\n                    <ul>\n                        <li><a href=\"https://tehran.craigslist.org/\">iran</a></li>\n                    </ul>\n                    <h4>Iraq</h4>\n                    <ul>\n                        <li><a href=\"https://baghdad.craigslist.org/\">iraq</a></li>\n                    </ul>\n                    <h4>Israel and Palestine</h4>\n                    <ul>\n                        <li><a href=\"https://haifa.craigslist.org/\">haifa</a></li>\n                        <li><a href=\"https://jerusalem.craigslist.org/\">jerusalem</a></li>\n                        <li><a href=\"https://telaviv.craigslist.org/\">tel aviv</a></li>\n                        <li><a href=\"https://ramallah.craigslist.org/\">west bank</a></li>\n                    </ul></div><div class=\"box box_3\">\n                        <h4>Japan</h4>\n                    <ul>\n                        <li><a href=\"https://fukuoka.craigslist.jp/\">fukuoka</a></li>\n                        <li><a href=\"https://hiroshima.craigslist.jp/\">hiroshima</a></li>\n                        <li><a href=\"https://nagoya.craigslist.jp/\">nagoya</a></li>\n                        <li><a href=\"https://okinawa.craigslist.jp/\">okinawa</a></li>\n                        <li><a href=\"https://osaka.craigslist.jp/\">osaka-kobe-kyoto</a></li>\n                        <li><a href=\"https://sapporo.craigslist.jp/\">sapporo</a></li>\n                        <li><a href=\"https://sendai.craigslist.jp/\">sendai</a></li>\n                        <li><a href=\"https://tokyo.craigslist.jp/\">tokyo</a></li>\n                    </ul>\n                    <h4>Korea</h4>\n                    <ul>\n                        <li><a href=\"https://seoul.craigslist.co.kr/\">seoul</a></li>\n                    </ul>\n                    <h4>Kuwait</h4>\n                    <ul>\n                        <li><a href=\"https://kuwait.craigslist.org/\">kuwait</a></li>\n                    </ul>\n                    <h4>Lebanon</h4>\n                    <ul>\n                        <li><a href=\"https://beirut.craigslist.org/\">beirut, lebanon</a></li>\n                    </ul>\n                    <h4>Malaysia</h4>\n                    <ul>\n                        <li><a href=\"https://malaysia.craigslist.org/\">malaysia</a></li>\n                    </ul>\n                    <h4>Pakistan</h4>\n                    <ul>\n                        <li><a href=\"https://pakistan.craigslist.org/\">pakistan</a></li>\n                    </ul></div><div class=\"box box_4\">\n                        <h4>Philippines</h4>\n                    <ul>\n                        <li><a href=\"https://bacolod.craigslist.com.ph/\">bacolod</a></li>\n                        <li><a href=\"https://naga.craigslist.com.ph/\">bicol region</a></li>\n                        <li><a href=\"https://cdo.craigslist.com.ph/\">cagayan de oro</a></li>\n                        <li><a href=\"https://cebu.craigslist.com.ph/\">cebu</a></li>\n                        <li><a href=\"https://davaocity.craigslist.com.ph/\">davao city</a></li>\n                        <li><a href=\"https://iloilo.craigslist.com.ph/\">iloilo</a></li>\n                        <li><a href=\"https://manila.craigslist.com.ph/\">manila</a></li>\n                        <li><a href=\"https://pampanga.craigslist.com.ph/\">pampanga</a></li>\n                        <li><a href=\"https://zamboanga.craigslist.com.ph/\">zamboanga</a></li>\n                    </ul>\n                    <h4>Singapore</h4>\n                    <ul>\n                        <li><a href=\"https://singapore.craigslist.com.sg/\">singapore</a></li>\n                    </ul>\n                    <h4>Taiwan</h4>\n                    <ul>\n                        <li><a href=\"https://taipei.craigslist.com.tw/\">taiwan</a></li>\n                    </ul>\n                    <h4>Thailand</h4>\n                    <ul>\n                        <li><a href=\"https://bangkok.craigslist.co.th/\">thailand</a></li>\n                    </ul>\n                    <h4>United Arab Emirates</h4>\n                    <ul>\n                        <li><a href=\"https://dubai.craigslist.org/\">united arab emirates</a></li>\n                    </ul>\n                    <h4>Vietnam</h4>\n                    <ul>\n                        <li><a href=\"https://vietnam.craigslist.org/\">vietnam</a></li>\n                    </ul>\n                </div>\n            </div>\n\n            <h1><a name=\"OCEANIA\"></a>Oceania</h1>\n            <div class=\"colmask\">\n                <div class=\"box box_1\">\n                    <h4>Australia</h4>\n                    <ul>\n                        <li><a href=\"https://adelaide.craigslist.com.au/\">adelaide</a></li>\n                        <li><a href=\"https://brisbane.craigslist.com.au/\">brisbane</a></li>\n                        <li><a href=\"https://cairns.craigslist.com.au/\">cairns</a></li>\n                        <li><a href=\"https://canberra.craigslist.com.au/\">canberra</a></li>\n                        <li><a href=\"https://darwin.craigslist.com.au/\">darwin</a></li>\n                        <li><a href=\"https://goldcoast.craigslist.com.au/\">gold coast</a></li>\n                        <li><a href=\"https://melbourne.craigslist.com.au/\">melbourne</a></li>\n                        <li><a href=\"https://ntl.craigslist.com.au/\">newcastle, NSW</a></li>\n                        <li><a href=\"https://perth.craigslist.com.au/\">perth</a></li>\n                        <li><a href=\"https://sydney.craigslist.com.au/\">sydney</a></li>\n                        <li><a href=\"https://hobart.craigslist.com.au/\">tasmania</a></li>\n                        <li><a href=\"https://wollongong.craigslist.com.au/\">wollongong</a></li>\n                    </ul></div><div class=\"box box_2\">\n                        <h4>New Zealand</h4>\n                    <ul>\n                        <li><a href=\"https://auckland.craigslist.org/\">auckland</a></li>\n                        <li><a href=\"https://christchurch.craigslist.org/\">christchurch</a></li>\n                        <li><a href=\"https://dunedin.craigslist.co.nz/\">dunedin</a></li>\n                        <li><a href=\"https://wellington.craigslist.org/\">wellington</a></li>\n                    </ul>\n                </div>\n            </div>\n\n            <h1><a name=\"LATAM\"></a>Latin America and Caribbean</h1>\n            <div class=\"colmask\">\n                <div class=\"box box_1\">\n                    <h4>Argentina</h4>\n                    <ul>\n                        <li><a href=\"https://buenosaires.craigslist.org/\">buenos aires</a></li>\n                    </ul>\n                    <h4>Bolivia</h4>\n                    <ul>\n                        <li><a href=\"https://lapaz.craigslist.org/\">bolivia</a></li>\n                    </ul>\n                    <h4>Brazil</h4>\n                    <ul>\n                        <li><a href=\"https://belohorizonte.craigslist.org/\">belo horizonte</a></li>\n                        <li><a href=\"https://brasilia.craigslist.org/\">brasilia</a></li>\n                        <li><a href=\"https://curitiba.craigslist.org/\">curitiba</a></li>\n                        <li><a href=\"https://fortaleza.craigslist.org/\">fortaleza</a></li>\n                        <li><a href=\"https://portoalegre.craigslist.org/\">porto alegre</a></li>\n                        <li><a href=\"https://recife.craigslist.org/\">recife</a></li>\n                        <li><a href=\"https://rio.craigslist.org/\">rio de janeiro</a></li>\n                        <li><a href=\"https://salvador.craigslist.org/\">salvador, bahia</a></li>\n                        <li><a href=\"https://saopaulo.craigslist.org/\">sao paulo</a></li>\n                    </ul>\n                    <h4>Caribbean Islands</h4>\n                    <ul>\n                        <li><a href=\"https://caribbean.craigslist.org/\">caribbean islands</a></li>\n                    </ul></div><div class=\"box box_2\">\n                        <h4>Chile</h4>\n                    <ul>\n                        <li><a href=\"https://santiago.craigslist.org/\">chile</a></li>\n                    </ul>\n                    <h4>Colombia</h4>\n                    <ul>\n                        <li><a href=\"https://colombia.craigslist.org/\">colombia</a></li>\n                    </ul>\n                    <h4>Costa Rica</h4>\n                    <ul>\n                        <li><a href=\"https://costarica.craigslist.org/\">costa rica</a></li>\n                    </ul>\n                    <h4>Dominican Republic</h4>\n                    <ul>\n                        <li><a href=\"https://santodomingo.craigslist.org/\">dominican republic</a></li>\n                    </ul>\n                    <h4>Ecuador</h4>\n                    <ul>\n                        <li><a href=\"https://quito.craigslist.org/\">ecuador</a></li>\n                    </ul>\n                    <h4>El Salvador</h4>\n                    <ul>\n                        <li><a href=\"https://elsalvador.craigslist.org/\">el salvador</a></li>\n                    </ul></div><div class=\"box box_3\">\n                        <h4>Guatemala</h4>\n                    <ul>\n                        <li><a href=\"https://guatemala.craigslist.org/\">guatemala</a></li>\n                    </ul>\n                    <h4>Mexico</h4>\n                    <ul>\n                        <li><a href=\"https://acapulco.craigslist.com.mx/\">acapulco</a></li>\n                        <li><a href=\"https://bajasur.craigslist.com.mx/\">baja california sur</a></li>\n                        <li><a href=\"https://chihuahua.craigslist.com.mx/\">chihuahua</a></li>\n                        <li><a href=\"https://juarez.craigslist.com.mx/\">ciudad juarez</a></li>\n                        <li><a href=\"https://guadalajara.craigslist.com.mx/\">guadalajara</a></li>\n                        <li><a href=\"https://guanajuato.craigslist.com.mx/\">guanajuato</a></li>\n                        <li><a href=\"https://hermosillo.craigslist.com.mx/\">hermosillo</a></li>\n                        <li><a href=\"https://mazatlan.craigslist.com.mx/\">mazatlan</a></li>\n                        <li><a href=\"https://mexicocity.craigslist.com.mx/\">mexico city</a></li>\n                        <li><a href=\"https://monterrey.craigslist.com.mx/\">monterrey</a></li>\n                        <li><a href=\"https://oaxaca.craigslist.com.mx/\">oaxaca</a></li>\n                        <li><a href=\"https://puebla.craigslist.com.mx/\">puebla</a></li>\n                        <li><a href=\"https://pv.craigslist.com.mx/\">puerto vallarta</a></li>\n                        <li><a href=\"https://tijuana.craigslist.com.mx/\">tijuana</a></li>\n                        <li><a href=\"https://veracruz.craigslist.com.mx/\">veracruz</a></li>\n                        <li><a href=\"https://yucatan.craigslist.com.mx/\">yucatan</a></li>\n                    </ul>\n                    <h4>Nicaragua</h4>\n                    <ul>\n                        <li><a href=\"https://managua.craigslist.org/\">nicaragua</a></li>\n                    </ul></div><div class=\"box box_4\">\n                        <h4>Panama</h4>\n                    <ul>\n                        <li><a href=\"https://panama.craigslist.org/\">panama</a></li>\n                    </ul>\n                    <h4>Peru</h4>\n                    <ul>\n                        <li><a href=\"https://lima.craigslist.org/\">peru</a></li>\n                    </ul>\n                    <h4>Puerto Rico</h4>\n                    <ul>\n                        <li><a href=\"https://puertorico.craigslist.org/\">puerto rico</a></li>\n                    </ul>\n                    <h4>Uruguay</h4>\n                    <ul>\n                        <li><a href=\"https://montevideo.craigslist.org/\">montevideo</a></li>\n                    </ul>\n                    <h4>Venezuela</h4>\n                    <ul>\n                        <li><a href=\"https://caracas.craigslist.org/\">venezuela</a></li>\n                    </ul>\n                    <h4>Virgin Islands, U.S.</h4>\n                    <ul>\n                        <li><a href=\"https://virgin.craigslist.org/\">virgin islands</a></li>\n                    </ul>\n                </div>\n            </div>\n\n            <h1><a name=\"AF\"></a>Africa</h1>\n            <div class=\"colmask\">\n                <div class=\"box box_1\">\n                    <h4>Egypt</h4>\n                    <ul>\n                        <li><a href=\"https://cairo.craigslist.org/\">egypt</a></li>\n                    </ul>\n                    <h4>Ethiopia</h4>\n                    <ul>\n                        <li><a href=\"https://addisababa.craigslist.org/\">ethiopia</a></li>\n                    </ul></div><div class=\"box box_2\">\n                        <h4>Ghana</h4>\n                    <ul>\n                        <li><a href=\"https://accra.craigslist.org/\">ghana</a></li>\n                    </ul>\n                    <h4>Kenya</h4>\n                    <ul>\n                        <li><a href=\"https://kenya.craigslist.org/\">kenya</a></li>\n                    </ul></div><div class=\"box box_3\">\n                        <h4>Morocco</h4>\n                    <ul>\n                        <li><a href=\"https://casablanca.craigslist.org/\">morocco</a></li>\n                    </ul>\n                    <h4>South Africa</h4>\n                    <ul>\n                        <li><a href=\"https://capetown.craigslist.co.za/\">cape town</a></li>\n                        <li><a href=\"https://durban.craigslist.co.za/\">durban</a></li>\n                        <li><a href=\"https://johannesburg.craigslist.co.za/\">johannesburg</a></li>\n                        <li><a href=\"https://pretoria.craigslist.co.za/\">pretoria</a></li>\n                    </ul></div><div class=\"box box_4\">\n                        <h4>Tunisia</h4>\n                    <ul>\n                        <li><a href=\"https://tunis.craigslist.org/\">tunisia</a></li>\n                    </ul>\n                </div>\n            </div>\n        </section>\n\n<footer>\n    <ul class=\"clfooter\">\n        <li>&copy; 2021 <span class=\"desktop\">craigslist</span><span class=\"mobile\">CL</span></li>\n        <li><a href=\"https://www.craigslist.org/about/help/\">help</a></li>\n        <li><a href=\"https://www.craigslist.org/about/scams\">safety</a></li>\n        <li class=\"desktop\"><a href=\"https://www.craigslist.org/about/privacy.policy\">privacy</a><sup class=\"neu\">new</sup></li>\n        <li class=\"desktop\"><a href=\"https://forums.craigslist.org/?forumID=8\">feedback</a></li>\n        <li><a href=\"https://www.craigslist.org/about/terms.of.use\">terms</a></li>\n        <li><a href=\"https://www.craigslist.org/about/\">about</a></li>\n        <li class=\"fsel desktop linklike\" data-mode=\"mobile\">mobile</li>\n        <li class=\"fsel mobile linklike\" data-mode=\"regular\">desktop</li>\n    </ul>\n</footer>\n\n    </article>\n\n        <script type=\"text/javascript\"><!--\nvar maptileBaseUrl = \"//map{s}.craigslist.org/t09/{z}/{x}/{y}.png\";\n--></script>\n    \n                <script>\n                (function(){\n                    var cl = window.CL = window.cl = window.cl || window.CL || {};\n                    cl.sandbox = \"\";\n                })();\n                try {\n                    var p = document.createElement(\"p\");\n                    if (\n                        !/\\/\\/.+\\.craigslist\\.org\\/about\\//.test(window.location.href) &&\n                        window.location.pathname.length > 1 &&\n                        (!window.addEventListener || JSON.parse(JSON.stringify('x')) !== 'x' || (p.style.flex!=='' && p.style['-webkit-flex'] !== ''))\n                    ) {\n                        throw \"unsupported browser\";\n                    }\n                } catch (e) {\n                    function cleanup() {\n                        document.body.innerHTML = '<div id=\"cl-unsupported-browser\" style=\"margin:1em;font-size:150%;text-align:center;\">We have detected you are using a browser that is missing critical features.<br><br>Please visit craigslist from a modern browser.</div>';\n                        document.body.style = \"display:block\";\n                    }\n\n                    try {\n                        document.body.style = \"display:none\";\n                    } catch (e) {\n                    }\n                    window.onload = cleanup;\n                    window.clUnsupportedBrowser = true;\n                }\n                </script>\n            <script src=\"//www.craigslist.org/js/general-concat.min.js?v=889a529b9a002725d6801c38b1bd8b37\" type=\"text/javascript\" ></script>\n<script src=\"//www.craigslist.org/js/leaflet-concat.min.js?v=4e7cd3d1525c0b8afa9a43bfc6d9cb04\" type=\"text/javascript\" ></script>\n<script src=\"//www.craigslist.org/js/sites-concat.min.js?v=5b7cb42172b7ef639eddbff60e351686\" type=\"text/javascript\" ></script>\n</body>\n</html>\n\n"
     ]
    }
   ],
   "source": [
    "url = \"https://www.craigslist.org/about/sites#US\"\n",
    "\n",
    "payload=\"{\\\"query\\\":\\\"\\\",\\\"variables\\\":{}}\"\n",
    "headers = {\n",
    "  'Content-Type': 'application/json',\n",
    "  'Cookie': 'cl_b=4|e2cc8343bd8bc601159c35871989cd623d44125c|1627239551oI6VQ'\n",
    "}\n",
    "\n",
    "response = requests.request(\"GET\", url, headers=headers, data=payload)\n",
    "\n",
    "print(response.text)"
   ]
  },
  {
   "cell_type": "code",
   "execution_count": 41,
   "metadata": {
    "tags": []
   },
   "outputs": [],
   "source": [
    "soup = BeautifulSoup(response.text, 'html.parser')\n",
    "urls = []\n",
    "for link_markup in soup.find_all('a'):\n",
    "    link = link_markup.get('href')\n",
    "    if link != None and '#' not in link:\n",
    "        urls.append(str(link).strip())"
   ]
  },
  {
   "cell_type": "code",
   "execution_count": 44,
   "metadata": {},
   "outputs": [],
   "source": [
    "series = pd.Series(urls)"
   ]
  },
  {
   "cell_type": "code",
   "execution_count": 84,
   "metadata": {},
   "outputs": [],
   "source": [
    "def extract_base_url(url: str) -> str:\n",
    "    \"\"\"Returns base url\"\"\"\n",
    "    base = url.replace('https://', '').replace('www', '')\n",
    "    # Remove top level domain after last dot\n",
    "    base = re.search(r'.*(?=\\.)', base).group()\n",
    "    # Remove top level domains with more than one dot\n",
    "    base = base.replace('.com', '').replace('.co', '')\n",
    "    return base"
   ]
  },
  {
   "cell_type": "code",
   "execution_count": 85,
   "metadata": {},
   "outputs": [],
   "source": [
    "new = series.apply(lambda x: extract_base_url(x))"
   ]
  },
  {
   "cell_type": "code",
   "execution_count": 89,
   "metadata": {},
   "outputs": [],
   "source": [
    "# Last 6 entries are not locations\n",
    "new = new[:-6]"
   ]
  },
  {
   "cell_type": "code",
   "execution_count": 97,
   "metadata": {},
   "outputs": [],
   "source": [
    "# Add protocol and top level domain\n",
    "final = new.apply(lambda x: ('https://' + x + '.org/search/cta'))"
   ]
  },
  {
   "cell_type": "code",
   "execution_count": 98,
   "metadata": {},
   "outputs": [],
   "source": [
    "final.to_csv('../data/raw/cl_locations.csv')"
   ]
  }
 ]
}